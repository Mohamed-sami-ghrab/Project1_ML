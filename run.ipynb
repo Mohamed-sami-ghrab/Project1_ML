{
 "cells": [
  {
   "cell_type": "markdown",
   "metadata": {},
   "source": [
    "# Project 1: Heart Attack Prediction\n",
    "\n",
    "This notebook implements a machine learning pipeline to predict the risk of heart disease based on the BRFSS dataset[cite: 31, 104]. The objective is to implement, tune, and evaluate several fundamental machine learning models from scratch, as outlined in the project description[cite: 10, 38].\n",
    "\n",
    "The workflow is as follows:\n",
    "1.  **Setup and Imports**: Load necessary libraries.\n",
    "2.  **Core Implementations**: Define all required ML models and helper functions.\n",
    "3.  **Data Preprocessing**: Clean and prepare the data for training, mirroring the successful approach of undersampling, median imputation, and standardization.\n",
    "4.  **Hyperparameter Tuning & Evaluation**: For each required model, we will:\n",
    "    a. Tune its key hyperparameters and visualize the impact on model loss.\n",
    "    b. Train the model using the optimal hyperparameter.\n",
    "    c. Evaluate its performance using Accuracy and F1-score on both balanced and imbalanced data.\n",
    "5.  **Final Submission**: Select the best model and generate the prediction file."
   ]
  },
  {
   "cell_type": "markdown",
   "metadata": {},
   "source": [
    "## 1. Setup and Imports\n",
    "\n",
    "We use `NumPy` for numerical computations and `Matplotlib` for plotting."
   ]
  },
  {
   "cell_type": "code",
   "execution_count": 1,
   "metadata": {},
   "outputs": [],
   "source": [
    "import numpy as np\n",
    "import csv\n",
    "import matplotlib.pyplot as plt"
   ]
  },
  {
   "cell_type": "markdown",
   "metadata": {},
   "source": [
    "## 2. Core ML & Helper Functions\n",
    "\n",
    "This section contains the implementations of the six required machine learning algorithms and all necessary helper functions for data loading, evaluation metrics, and preprocessing."
   ]
  },
  {
   "cell_type": "code",
   "execution_count": 2,
   "metadata": {},
   "outputs": [],
   "source": [
    "# --- Data Loading ---\n",
    "def load_csv_data(data_path, data_type='train'):\n",
    "    \"\"\"Loads data and returns y, tx, and ids.\"\"\"\n",
    "    if data_type == 'train':\n",
    "        y = np.genfromtxt(f\"{data_path}/y_train.csv\", delimiter=\",\", skip_header=1, dtype=int, usecols=1)\n",
    "        x = np.genfromtxt(f\"{data_path}/x_train.csv\", delimiter=\",\", skip_header=1)\n",
    "        ids = x[:, 0].astype(int)\n",
    "        tx = x[:, 2:]\n",
    "        return y, tx, ids\n",
    "    elif data_type == 'test':\n",
    "        x = np.genfromtxt(f\"{data_path}/x_test.csv\", delimiter=\",\", skip_header=1)\n",
    "        ids = x[:, 0].astype(int)\n",
    "        tx = x[:, 2:]\n",
    "        return None, tx, ids\n",
    "\n",
    "# --- Submission ---\n",
    "def create_csv_submission(ids, y_pred, name):\n",
    "    \"\"\"Creates a submission file in csv format.\"\"\"\n",
    "    with open(name, 'w', newline='') as csvfile:\n",
    "        writer = csv.writer(csvfile)\n",
    "        writer.writerow(['Id', 'Prediction'])\n",
    "        for i, pred in zip(ids, y_pred):\n",
    "            writer.writerow([i, int(pred)])\n",
    "\n",
    "# --- Utility & Math Functions ---\n",
    "def sigmoid(t):\n",
    "    t = np.clip(t, -500, 500)\n",
    "    return 1.0 / (1.0 + np.exp(-t))\n",
    "\n",
    "# --- Loss & Gradient Functions ---\n",
    "def compute_mse_loss(y, tx, w):\n",
    "    e = y - tx.dot(w)\n",
    "    return 1 / 2 * np.mean(e**2)\n",
    "\n",
    "def compute_logistic_loss(y, tx, w):\n",
    "    pred = sigmoid(tx.dot(w))\n",
    "    epsilon = 1e-12\n",
    "    pred = np.clip(pred, epsilon, 1 - epsilon)\n",
    "    loss = -np.mean(y * np.log(pred) + (1 - y) * np.log(1 - pred))\n",
    "    return loss\n",
    "\n",
    "def compute_logistic_gradient(y, tx, w):\n",
    "    pred = sigmoid(tx.dot(w))\n",
    "    return tx.T.dot(pred - y) / len(y)\n",
    "\n",
    "# --- Required ML Implementations ---\n",
    "def least_squares(y, tx):\n",
    "    a = tx.T.dot(tx)\n",
    "    b = tx.T.dot(y)\n",
    "    w = np.linalg.solve(a, b)\n",
    "    loss = compute_mse_loss(y, tx, w)\n",
    "    return w, loss\n",
    "\n",
    "def ridge_regression(y, tx, lambda_):\n",
    "    N, D = tx.shape\n",
    "    a = tx.T.dot(tx) + 2 * N * lambda_ * np.identity(D)\n",
    "    b = tx.T.dot(y)\n",
    "    w = np.linalg.solve(a, b)\n",
    "    loss = compute_mse_loss(y, tx, w)\n",
    "    return w, loss\n",
    "\n",
    "def logistic_regression(y, tx, initial_w, max_iters, gamma):\n",
    "    w = initial_w\n",
    "    for _ in range(max_iters):\n",
    "        gradient = compute_logistic_gradient(y, tx, w)\n",
    "        w = w - gamma * gradient\n",
    "    loss = compute_logistic_loss(y, tx, w)\n",
    "    return w, loss\n",
    "\n",
    "def reg_logistic_regression(y, tx, lambda_, initial_w, max_iters, gamma):\n",
    "    w = initial_w\n",
    "    losses = []\n",
    "    for _ in range(max_iters):\n",
    "        gradient = compute_logistic_gradient(y, tx, w) + 2 * lambda_ * w\n",
    "        w = w - gamma * gradient\n",
    "    loss = compute_logistic_loss(y, tx, w)\n",
    "    return w, loss\n",
    "\n",
    "# --- Evaluation Metrics ---\n",
    "def predict_labels(w, tx, threshold=0.5, is_logistic=True):\n",
    "    if is_logistic:\n",
    "        probs = sigmoid(tx.dot(w))\n",
    "        return np.where(probs > threshold, 1, -1)\n",
    "    else: # For linear regression models\n",
    "        preds = tx.dot(w)\n",
    "        return np.where(preds > threshold, 1, -1)\n",
    "\n",
    "def accuracy(y_true, y_pred):\n",
    "    return np.mean(y_true == y_pred)\n",
    "\n",
    "def f1_score(y_true, y_pred):\n",
    "    tp = np.sum((y_true == 1) & (y_pred == 1))\n",
    "    fp = np.sum((y_true == -1) & (y_pred == 1))\n",
    "    fn = np.sum((y_true == 1) & (y_pred == -1))\n",
    "    precision = tp / (tp + fp) if (tp + fp) > 0 else 0\n",
    "    recall = tp / (tp + fn) if (tp + fn) > 0 else 0\n",
    "    f1 = 2 * (precision * recall) / (precision + recall) if (precision + recall) > 0 else 0\n",
    "    return f1"
   ]
  },
  {
   "cell_type": "markdown",
   "metadata": {},
   "source": [
    "## 3. Data Loading and Preprocessing\n",
    "\n",
    "First, we load the data. A key observation is the severe class imbalance, which we must address. The preprocessing pipeline will perform the following steps in order:\n",
    "1.  **Undersampling**: To balance the dataset for more effective training[cite: 206].\n",
    "2.  **Median Imputation**: To handle missing values (`-999`) in a way that is robust to outliers[cite: 202].\n",
    "3.  **Standardization (Z-score)**: To scale features to have zero mean and unit variance, which helps gradient-based optimization[cite: 211].\n",
    "4.  **Polynomial Feature Expansion**: To allow the linear models to capture non-linear patterns[cite: 213].\n",
    "5.  **Add Bias Term**: To add an intercept to the models."
   ]
  },
  {
   "cell_type": "code",
   "execution_count": 3,
   "metadata": {},
   "outputs": [
    {
     "name": "stdout",
     "output_type": "stream",
     "text": [
      "Shape of balanced training data: (57950, 641)\n",
      "Shape of imbalanced validation data: (328135, 641)\n",
      "Shape of test data: (109379, 641)\n"
     ]
    }
   ],
   "source": [
    "def preprocess_data(x_train, y_train, x_test):\n",
    "    \"\"\"Preprocesses the data using undersampling, median imputation, standardization, and polynomial expansion.\"\"\"\n",
    "    # Replace -999 with NaN for easier calculations\n",
    "    x_train[x_train == -999] = np.nan\n",
    "    x_test[x_test == -999] = np.nan\n",
    "\n",
    "    # 1. Undersample the majority class\n",
    "    np.random.seed(42)\n",
    "    majority_indices = np.where(y_train == -1)[0]\n",
    "    minority_indices = np.where(y_train == 1)[0]\n",
    "    undersample_indices = np.random.choice(majority_indices, size=len(minority_indices), replace=False)\n",
    "    balanced_indices = np.concatenate([minority_indices, undersample_indices])\n",
    "    np.random.shuffle(balanced_indices)\n",
    "    x_train_balanced = x_train[balanced_indices]\n",
    "    y_train_balanced = y_train[balanced_indices]\n",
    "\n",
    "    # 2. Impute missing values with median from the *original* training set\n",
    "    train_medians = np.nanmedian(x_train, axis=0)\n",
    "    x_train_balanced[np.isnan(x_train_balanced)] = np.take(train_medians, np.where(np.isnan(x_train_balanced))[1])\n",
    "    x_test[np.isnan(x_test)] = np.take(train_medians, np.where(np.isnan(x_test))[1])\n",
    "    x_train_imbalanced_clean = np.copy(x_train)\n",
    "    x_train_imbalanced_clean[np.isnan(x_train_imbalanced_clean)] = np.take(train_medians, np.where(np.isnan(x_train_imbalanced_clean))[1])\n",
    "\n",
    "    # 3. Standardize features based on the *balanced* training set\n",
    "    mean = np.mean(x_train_balanced, axis=0)\n",
    "    std = np.std(x_train_balanced, axis=0)\n",
    "    std[std == 0] = 1 # Avoid division by zero\n",
    "    x_train_std = (x_train_balanced - mean) / std\n",
    "    x_test_std = (x_test - mean) / std\n",
    "    x_train_imbalanced_std = (x_train_imbalanced_clean - mean) / std\n",
    "\n",
    "    # 4. Polynomial expansion (degree 2)\n",
    "    degree = 2\n",
    "    x_train_poly = np.hstack([x_train_std, x_train_std**degree])\n",
    "    x_test_poly = np.hstack([x_test_std, x_test_std**degree])\n",
    "    x_train_imbalanced_poly = np.hstack([x_train_imbalanced_std, x_train_imbalanced_std**degree])\n",
    "\n",
    "    # 5. Add bias column\n",
    "    tx_train_balanced = np.hstack([np.ones((x_train_poly.shape[0], 1)), x_train_poly])\n",
    "    tx_test = np.hstack([np.ones((x_test_poly.shape[0], 1)), x_test_poly])\n",
    "    tx_train_imbalanced = np.hstack([np.ones((x_train_imbalanced_poly.shape[0], 1)), x_train_imbalanced_poly])\n",
    "\n",
    "    return tx_train_balanced, y_train_balanced, tx_test, tx_train_imbalanced\n",
    "\n",
    "# --- Load and Preprocess Data ---\n",
    "DATA_PATH = \"./data/\"\n",
    "y_train_orig, x_train_orig, _ = load_csv_data(DATA_PATH, 'train')\n",
    "_, x_test_orig, test_ids = load_csv_data(DATA_PATH, 'test')\n",
    "\n",
    "tx_train_b, y_train_b, tx_test, tx_train_imb = preprocess_data(x_train_orig, y_train_orig, x_test_orig)\n",
    "\n",
    "# Convert labels to {0, 1} for logistic models\n",
    "y_train_b_logistic = np.where(y_train_b == -1, 0, 1)\n",
    "\n",
    "print(f\"Shape of balanced training data: {tx_train_b.shape}\")\n",
    "print(f\"Shape of imbalanced validation data: {tx_train_imb.shape}\")\n",
    "print(f\"Shape of test data: {tx_test.shape}\")"
   ]
  },
  {
   "cell_type": "markdown",
   "metadata": {},
   "source": [
    "## 4. Model Training, Tuning, and Evaluation\n",
    "\n",
    "We now proceed to tune and evaluate each of the required models."
   ]
  },
  {
   "cell_type": "markdown",
   "metadata": {},
   "source": [
    "### 4.1 Ridge Regression\n",
    "\n",
    "We first tune the regularization parameter `lambda` for Ridge Regression. We search over a logarithmic scale of values and plot the resulting MSE loss to find the optimal value."
   ]
  },
  {
   "cell_type": "code",
   "execution_count": 5,
   "metadata": {},
   "outputs": [
    {
     "data": {
      "image/png": "[encoded data removed]",
      "text/plain": [
       "<Figure size 1000x600 with 1 Axes>"
      ]
     },
     "metadata": {},
     "output_type": "display_data"
    },
    {
     "name": "stdout",
     "output_type": "stream",
     "text": [
      "Best lambda for Ridge Regression: 1e-06\n"
     ]
    }
   ],
   "source": [
    "# Tune lambda for Ridge Regression\n",
    "lambdas = np.logspace(-6, 0, 20)\n",
    "losses = []\n",
    "for lambda_ in lambdas:\n",
    "    _, loss = ridge_regression(y_train_b_logistic, tx_train_b, lambda_)\n",
    "    losses.append(loss)\n",
    "\n",
    "best_lambda_ridge = lambdas[np.argmin(losses)]\n",
    "\n",
    "# Plotting\n",
    "plt.figure(figsize=(10, 6))\n",
    "plt.semilogx(lambdas, losses, marker='o')\n",
    "plt.xlabel('Lambda')\n",
    "plt.ylabel('MSE Loss')\n",
    "plt.title('Ridge Regression: Lambda vs. Loss')\n",
    "plt.grid(True)\n",
    "\n",
    "plt.show()\n",
    "\n",
    "print(f\"Best lambda for Ridge Regression: {best_lambda_ridge}\")"
   ]
  },
  {
   "cell_type": "code",
   "execution_count": 6,
   "metadata": {},
   "outputs": [
    {
     "name": "stdout",
     "output_type": "stream",
     "text": [
      "--- Ridge Regression Evaluation ---\n",
      "Balanced Training Set -> Accuracy: 0.7882, F1-score: 0.7934\n",
      "Imbalanced Validation Set -> Accuracy: 0.7622, F1-score: 0.3767\n"
     ]
    }
   ],
   "source": [
    "# Train and evaluate Ridge Regression with the best lambda\n",
    "w_ridge, _ = ridge_regression(y_train_b_logistic, tx_train_b, best_lambda_ridge)\n",
    "\n",
    "# Predictions (using 0.5 as threshold since y is {0, 1})\n",
    "y_pred_b = predict_labels(w_ridge, tx_train_b, threshold=0.5, is_logistic=False)\n",
    "y_pred_imb = predict_labels(w_ridge, tx_train_imb, threshold=0.5, is_logistic=False)\n",
    "\n",
    "print(\"--- Ridge Regression Evaluation ---\")\n",
    "print(f\"Balanced Training Set -> Accuracy: {accuracy(y_train_b, y_pred_b):.4f}, F1-score: {f1_score(y_train_b, y_pred_b):.4f}\")\n",
    "print(f\"Imbalanced Validation Set -> Accuracy: {accuracy(y_train_orig, y_pred_imb):.4f}, F1-score: {f1_score(y_train_orig, y_pred_imb):.4f}\")"
   ]
  },
  {
   "cell_type": "markdown",
   "metadata": {},
   "source": [
    "### 4.2 Logistic Regression\n",
    "\n",
    "Next, we tune the learning rate `gamma` for standard Logistic Regression."
   ]
  },
  {
   "cell_type": "code",
   "execution_count": 7,
   "metadata": {},
   "outputs": [
    {
     "data": {
      "image/png": "[encoded data removed]",
      "text/plain": [
       "<Figure size 1000x600 with 1 Axes>"
      ]
     },
     "metadata": {},
     "output_type": "display_data"
    },
    {
     "name": "stdout",
     "output_type": "stream",
     "text": [
      "Best gamma for Logistic Regression: 0.01291549665014884\n"
     ]
    }
   ],
   "source": [
    "# Tune gamma for Logistic Regression\n",
    "gammas = np.logspace(-3, -1, 10)\n",
    "losses_lr = []\n",
    "initial_w_lr = np.zeros(tx_train_b.shape[1])\n",
    "\n",
    "for gamma in gammas:\n",
    "    _, loss = logistic_regression(y_train_b_logistic, tx_train_b, initial_w_lr, max_iters=500, gamma=gamma)\n",
    "    losses_lr.append(loss)\n",
    "\n",
    "best_gamma_lr = gammas[np.argmin(losses_lr)]\n",
    "\n",
    "# Plotting\n",
    "plt.figure(figsize=(10, 6))\n",
    "plt.semilogx(gammas, losses_lr, marker='o')\n",
    "plt.xlabel('Gamma (Learning Rate)')\n",
    "plt.ylabel('Logistic Loss')\n",
    "plt.title('Logistic Regression: Gamma vs. Loss')\n",
    "plt.grid(True)\n",
    "\n",
    "plt.show()\n",
    "\n",
    "print(f\"Best gamma for Logistic Regression: {best_gamma_lr}\")"
   ]
  },
  {
   "cell_type": "code",
   "execution_count": 8,
   "metadata": {},
   "outputs": [
    {
     "name": "stdout",
     "output_type": "stream",
     "text": [
      "--- Logistic Regression Evaluation ---\n",
      "Balanced Training Set -> Accuracy: 0.7850, F1-score: 0.7872\n",
      "Imbalanced Validation Set -> Accuracy: 0.7711, F1-score: 0.3804\n"
     ]
    }
   ],
   "source": [
    "# Train and evaluate Logistic Regression with the best gamma\n",
    "w_lr, _ = logistic_regression(y_train_b_logistic, tx_train_b, initial_w_lr, max_iters=5000, gamma=best_gamma_lr)\n",
    "\n",
    "# Predictions\n",
    "y_pred_b_lr = predict_labels(w_lr, tx_train_b)\n",
    "y_pred_imb_lr = predict_labels(w_lr, tx_train_imb)\n",
    "\n",
    "print(\"--- Logistic Regression Evaluation ---\")\n",
    "print(f\"Balanced Training Set -> Accuracy: {accuracy(y_train_b, y_pred_b_lr):.4f}, F1-score: {f1_score(y_train_b, y_pred_b_lr):.4f}\")\n",
    "print(f\"Imbalanced Validation Set -> Accuracy: {accuracy(y_train_orig, y_pred_imb_lr):.4f}, F1-score: {f1_score(y_train_orig, y_pred_imb_lr):.4f}\")"
   ]
  },
  {
   "cell_type": "markdown",
   "metadata": {},
   "source": [
    "### 4.3 Regularized Logistic Regression\n",
    "\n",
    "For this model, we need to tune both `lambda` and `gamma`. We perform a simple grid search to find the best combination."
   ]
  },
  {
   "cell_type": "code",
   "execution_count": null,
   "metadata": {},
   "outputs": [],
   "source": [
    "# Tune lambda and gamma for Regularized Logistic Regression\n",
    "lambdas_reg = np.logspace(-6, -2, 5)\n",
    "gammas_reg = np.logspace(-3, -1, 5)\n",
    "best_loss_reg = float('inf')\n",
    "best_params = {'lambda': None, 'gamma': None}\n",
    "initial_w_reg = np.zeros(tx_train_b.shape[1])\n",
    "\n",
    "print(\"Starting grid search for Regularized Logistic Regression...\")\n",
    "for lambda_ in lambdas_reg:\n",
    "    for gamma in gammas_reg:\n",
    "        _, loss = reg_logistic_regression(y_train_b_logistic, tx_train_b, lambda_, initial_w_reg, max_iters=500, gamma=gamma)\n",
    "        if loss < best_loss_reg:\n",
    "            best_loss_reg = loss\n",
    "            best_params['lambda'] = lambda_\n",
    "            best_params['gamma'] = gamma\n",
    "\n",
    "print(f\"Grid search complete. Best parameters: {best_params}\")"
   ]
  },
  {
   "cell_type": "code",
   "execution_count": null,
   "metadata": {},
   "outputs": [],
   "source": [
    "# Train and evaluate Regularized Logistic Regression with best params\n",
    "best_lambda_reg = best_params['lambda']\n",
    "best_gamma_reg = best_params['gamma']\n",
    "\n",
    "# Train final model for more iterations\n",
    "w_reg, final_loss_reg = reg_logistic_regression(y_train_b_logistic, tx_train_b, best_lambda_reg, initial_w_reg, max_iters=5000, gamma=best_gamma_reg)\n",
    "\n",
    "# Predictions\n",
    "y_pred_b_reg = predict_labels(w_reg, tx_train_b)\n",
    "y_pred_imb_reg = predict_labels(w_reg, tx_train_imb)\n",
    "\n",
    "print(f\"\\n--- Regularized Logistic Regression Evaluation (Loss: {final_loss_reg:.4f}) ---\")\n",
    "print(f\"Balanced Training Set -> Accuracy: {accuracy(y_train_b, y_pred_b_reg):.4f}, F1-score: {f1_score(y_train_b, y_pred_b_reg):.4f}\")\n",
    "print(f\"Imbalanced Validation Set -> Accuracy: {accuracy(y_train_orig, y_pred_imb_reg):.4f}, F1-score: {f1_score(y_train_orig, y_pred_imb_reg):.4f}\")"
   ]
  },
  {
   "cell_type": "markdown",
   "metadata": {},
   "source": [
    "## 5. Final Model Selection and Submission\n",
    "\n",
    "As a final optimization on the Regularized Logistic Regression, we will tune the prediction threshold on the imbalanced validation set to maximize the F1-score."
   ]
  },
  {
   "cell_type": "code",
   "execution_count": null,
   "metadata": {},
   "outputs": [],
   "source": [
    "# Tune the prediction threshold for the best model (w_reg)\n",
    "best_f1_tuned = 0\n",
    "best_threshold_tuned = 0.5\n",
    "y_probs_val = sigmoid(tx_train_imb.dot(w_reg))\n",
    "\n",
    "for threshold in np.linspace(0, 1, 101):\n",
    "    y_pred_val = np.where(y_probs_val > threshold, 1, -1)\n",
    "    current_f1 = f1_score(y_train_orig, y_pred_val)\n",
    "    if current_f1 > best_f1_tuned:\n",
    "        best_f1_tuned = current_f1\n",
    "        best_threshold_tuned = threshold\n",
    "\n",
    "print(f\"Best threshold found: {best_threshold_tuned:.2f} with an F1-score of {best_f1_tuned:.4f}\")"
   ]
  },
  {
   "cell_type": "code",
   "execution_count": null,
   "metadata": {},
   "outputs": [],
   "source": [
    "# Generate final predictions on the test set\n",
    "y_pred_test = predict_labels(w_reg, tx_test, threshold=best_threshold_tuned)\n",
    "\n",
    "# Create submission file\n",
    "submission_file = 'submission.csv'\n",
    "create_csv_submission(test_ids, y_pred_test, submission_file)\n",
    "print(f\"\\nSubmission file '{submission_file}' has been generated.\")"
   ]
  }
 ],
 "metadata": {
  "kernelspec": {
   "display_name": "Python3",
   "language": "python",
   "name": "python3"
  },
  "language_info": {
   "codemirror_mode": {
    "name": "ipython",
    "version": 3
   },
   "file_extension": ".py",
   "mimetype": "text/x-python",
   "name": "python",
   "nbconvert_exporter": "python",
   "pygments_lexer": "ipython3",
   "version": "3.12.8"
  }
 },
 "nbformat": 4,
 "nbformat_minor": 4
}
